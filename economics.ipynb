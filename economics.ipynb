{
 "cells": [
  {
   "cell_type": "code",
   "execution_count": null,
   "metadata": {},
   "outputs": [],
   "source": [
    "import pandas as pd\n",
    "import numpy as np\n",
    "\n",
    "county_raw_data = pd.read_csv('countypres_2000-2020.csv')                                                       #Read csv file of raw data\n",
    "important_columns = ['year', 'county_fips', 'county_name', 'candidatevotes', 'totalvotes', 'party']             #Marking significant data for outlining the election winner in each county\n",
    "\n",
    "previous_iteration = 0                                                                                          #Setting variable for for loop iteration\n",
    "\n",
    "\n",
    "\n",
    "for x, row in county_raw_data.iloc[1:].iterrows():                                                                                                                    #Iterate through the rows of raw data\n",
    "    if row['totalvotes'] != 0:                                                                                                                                        #Throw away the data with 0 votes\n",
    "        if county_raw_data['county_fips'].loc[x] == county_raw_data['county_fips'].loc[previous_iteration]:                                                           #Make sure we are comparing the same county\n",
    "            if county_raw_data['candidatevotes'].loc[x] > county_raw_data['candidatevotes'].loc[previous_iteration]:                                                  #Detect whether the current party of the iteration has more votes than the previous party\n",
    "                previous_iteration = x                                                                                                                                #If true, set the \"previous iteration\" to the current iteration so the process can be repeated\n",
    "        else:\n",
    "            county_raw_data.loc[[previous_iteration]].to_csv('county_election_winners.csv', mode='a', columns=important_columns, header=False, index=False)           #Otherwise, the candidate we had just looked at must be the highest for that county so send that data to the new csv file\n",
    "            previous_iteration = x                                                                                                                                    #We are now looking at a new county, so set the \"previous iteration\" to current iteration to repeat previous instructions"
   ]
  }
 ],
 "metadata": {
  "kernelspec": {
   "display_name": "Python 3",
   "language": "python",
   "name": "python3"
  },
  "language_info": {
   "codemirror_mode": {
    "name": "ipython",
    "version": 3
   },
   "file_extension": ".py",
   "mimetype": "text/x-python",
   "name": "python",
   "nbconvert_exporter": "python",
   "pygments_lexer": "ipython3",
   "version": "3.12.8"
  }
 },
 "nbformat": 4,
 "nbformat_minor": 2
}
