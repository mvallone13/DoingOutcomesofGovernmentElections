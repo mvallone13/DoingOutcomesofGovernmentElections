{
 "cells": [
  {
   "cell_type": "code",
   "execution_count": null,
   "metadata": {},
   "outputs": [],
   "source": [
    "import openpyxl\n",
    "import pandas as pd\n",
    "import numpy as np\n",
    "\n",
    "election_results_2020_path = \"C:\\Users\\cleme\\Downloads\\federalelections2020.xlsx\"\n",
    "\n",
    "house_results = pd.read_excel(election_results_2020_path, sheet_name=\"13. US House Results by State\")\n",
    "president_results = pd.read_excel(election_results_2020_path, sheet_name=\"9. 2020 Pres General Results\")\n",
    "\n",
    "\n",
    "republican_winners = house_results.loc[(house_results[\"PARTY\"] == \"R\") & (house_results[\"GE WINNER INDICATOR\"] == \"W\")]\n",
    "democrat_winners = house_results.loc[(house_results[\"PARTY\"] == \"D\") & (house_results[\"GE WINNER INDICATOR\"] == \"W\")]\n",
    "\n",
    "print(len(republican_winners) + len(democrat_winners))\n"
   ]
  },
  {
   "cell_type": "code",
   "execution_count": null,
   "metadata": {},
   "outputs": [],
   "source": [
    "import pandas as pd\n",
    "import numpy as np\n",
    "\n",
    "county_census = r'C:\\Users\\mvall\\Downloads\\DECENNIALDP2020.DP1-Data.csv'\n",
    "\n",
    "cd = pd.read_csv(county_census, header=1)\n",
    "\n",
    "#'Geographic Area Name'\n",
    "#'Count!!SEX AND AGE!!Total population'\n",
    "#'Count!!RACE!!Total population!!One Race!!White'\n",
    "#'Count!!RACE!!Total population!!One Race!!Black or African American'\n",
    "#'Count!!RACE!!Total population!!One Race!!Asian'\n",
    "#'Count!!HISPANIC OR LATINO!!Total population!!Hispanic or Latino (of any race)'\n",
    "\n",
    "county = cd['Geographic Area Name']\n",
    "pop = cd['Count!!SEX AND AGE!!Total population']\n",
    "wnum = cd['Count!!RACE!!Total population!!One Race!!White']\n",
    "bnum = cd['Count!!RACE!!Total population!!One Race!!Black or African American']\n",
    "anum = cd['Count!!RACE!!Total population!!One Race!!Asian']\n",
    "hnum = cd['Count!!HISPANIC OR LATINO!!Total population!!Hispanic or Latino (of any race)']\n",
    "wdiv = cd['Count!!RACE!!Total population!!One Race!!White']/cd['Count!!SEX AND AGE!!Total population']\n",
    "bdiv = cd['Count!!RACE!!Total population!!One Race!!Black or African American']/cd['Count!!SEX AND AGE!!Total population']\n",
    "adiv = cd['Count!!RACE!!Total population!!One Race!!Asian']/cd['Count!!SEX AND AGE!!Total population']\n",
    "hdiv = cd['Count!!HISPANIC OR LATINO!!Total population!!Hispanic or Latino (of any race)']/cd['Count!!SEX AND AGE!!Total population']\n",
    "\n",
    "wd = pd.concat([county, pop, wnum, wdiv, bnum, bdiv, anum, adiv, hnum, hdiv], axis=1)\n",
    "\n",
    "wd.to_csv(r'C:\\Users\\mvall\\Documents\\div.csv', header=['County', 'Population', 'White Population','% White', 'Black Population', '% Black', 'Asian Population', '% Asian', 'Hispanic Population', '% Hispanic'])\n"
   ]
  },
  {
   "cell_type": "code",
   "execution_count": null,
   "metadata": {},
   "outputs": [],
   "source": [
    "import geopandas as gp\n",
    "import pandas as pd\n",
    "import numpy as np"
   ]
  },
  {
   "cell_type": "code",
   "execution_count": null,
   "metadata": {},
   "outputs": [],
   "source": [
    "import openpyxl\n",
    "import pandas as pd\n",
    "import numpy as np\n",
    "\n"
   ]
  },
  {
   "cell_type": "code",
   "execution_count": 4,
   "metadata": {},
   "outputs": [
    {
     "name": "stdout",
     "output_type": "stream",
     "text": [
      "['Geospatial Election Data/age_and_sex_data_by_county.csv', 'Geospatial Election Data/countypres_2000-2020', 'Geospatial Election Data/countypres_2000-2020.csv', 'Geospatial Election Data/county_borders.geojson', 'Geospatial Election Data/county_geojson.geojson', 'Geospatial Election Data/federalelections2020.xlsx', 'Geospatial Election Data/Past Election Data', 'Geospatial Election Data/race_data_by_county.csv']\n"
     ]
    }
   ],
   "source": [
    "import gdown\n",
    "import os.path\n",
    "\n",
    "if not os.path.exists(\"Geospatial Election Data\"):\n",
    "    gdown.download_folder(id=\"1GGn98K002bbEBxbmHWE1PpZ1MrS3Em6r\")\n",
    "\n",
    "folder = os.listdir(\"Geospatial Election Data\")\n",
    "\n",
    "links = []\n",
    "\n",
    "for file in folder:\n",
    "    links.append(\"Geospatial Election Data/\" + file)\n",
    "\n",
    "print(links)"
   ]
  },
  {
   "cell_type": "code",
   "execution_count": 8,
   "metadata": {},
   "outputs": [
    {
     "name": "stdout",
     "output_type": "stream",
     "text": [
      "                                                         candidates  \\\n",
      "year county_name                                                      \n",
      "2000 ABBEVILLE        [AL GORE, GEORGE W. BUSH, RALPH NADER, OTHER]   \n",
      "     ACADIA           [AL GORE, GEORGE W. BUSH, RALPH NADER, OTHER]   \n",
      "     ACCOMACK         [AL GORE, GEORGE W. BUSH, RALPH NADER, OTHER]   \n",
      "     ADA              [AL GORE, GEORGE W. BUSH, RALPH NADER, OTHER]   \n",
      "     ADAIR        [AL GORE, GEORGE W. BUSH, RALPH NADER, OTHER, ...   \n",
      "...                                                             ...   \n",
      "2020 YUBA         [JOSEPH R BIDEN JR, OTHER, JO JORGENSEN, OTHER...   \n",
      "     YUMA         [JOSEPH R BIDEN JR, JOSEPH R BIDEN JR, JOSEPH ...   \n",
      "     ZAPATA       [JOSEPH R BIDEN JR, OTHER, JO JORGENSEN, OTHER...   \n",
      "     ZAVALA       [JOSEPH R BIDEN JR, OTHER, JO JORGENSEN, OTHER...   \n",
      "     ZIEBACH      [JOSEPH R BIDEN JR, JO JORGENSEN, DONALD J TRUMP]   \n",
      "\n",
      "                                                     candidatevotes  \n",
      "year county_name                                                     \n",
      "2000 ABBEVILLE                                 [3766, 4450, 66, 92]  \n",
      "     ACADIA                                 [8892, 13814, 227, 305]  \n",
      "     ACCOMACK                                [5092, 6352, 220, 261]  \n",
      "     ADA                                 [40650, 75050, 4846, 2939]  \n",
      "     ADAIR        [1753, 2275, 66, 29, 1779, 5460, 48, 41, 4101,...  \n",
      "...                                                             ...  \n",
      "2020 YUBA                             [11230, 124, 510, 256, 17676]  \n",
      "     YUMA         [28134, 3570, 506, 0, 0, 0, 915, 189, 33, 0, 0...  \n",
      "     ZAPATA                                  [1826, 4, 11, 0, 2033]  \n",
      "     ZAVALA                                 [2864, 12, 13, 0, 1490]  \n",
      "     ZIEBACH                                         [481, 21, 404]  \n",
      "\n",
      "[11125 rows x 2 columns]\n"
     ]
    }
   ],
   "source": [
    "import pandas as pd\n",
    "import geopandas as gpd\n",
    "import numpy as np\n",
    "\n",
    "#import data\n",
    "\n",
    "age_and_sex_data_by_county_path = 'age_and_sex_data_by_county.csv'\n",
    "race_data_by_county_path = 'race_data_by_county.csv'\n",
    "county_borders_path = 'county_borders.geojson'\n",
    "\n",
    "cgeo = gpd.read_file(\"county_geojson.geojson\")\n",
    "shii = pd.read_excel('federalelections2020.xlsx', sheet_name=\"9. 2020 Pres General Results\")\n",
    "presidential_data = pd.read_csv('countypres_2000-2020.csv')\n",
    "\n",
    "\n",
    "shii.drop(columns=\"FEC ID\")\n",
    "\n",
    "#convert state ID to string\n",
    "\n",
    "cgeo[\"STATE\"] = cgeo[\"STATE\"].astype(str)\n",
    "\n",
    "#Get state from NAME_y column of county_geojson\n",
    "\n",
    "for idx, row in cgeo.iterrows():\n",
    "\n",
    "    split_data = str(row[\"NAME_y\"]).split(\",\")\n",
    "\n",
    "    try:\n",
    "        cgeo.at[idx, \"STATE\"] = split_data[1].strip()\n",
    "    except:\n",
    "        pass\n",
    "\n",
    "\n",
    "#Get rows of unique county name\n",
    "\n",
    "countyu = presidential_data.county_name.unique()\n",
    "\n",
    "presidential_data[\"candidate\"] = presidential_data[\"candidate\"].astype(str)\n",
    "\n",
    "\n",
    "\n",
    "\n",
    "\n",
    "county_votes = presidential_data.groupby([\"year\", \"county_name\"]).agg(\n",
    "\n",
    "    {\"candidate\" : lambda x : list(x),\n",
    "     \"candidatevotes\" : lambda x : list(x)\n",
    "     \n",
    "     }\n",
    "\n",
    ")\n",
    "\n",
    "\n",
    "county_votes.rename({'candidate': 'candidates'}, axis='columns', inplace=True)\n",
    "\n",
    "\n",
    "print(county_votes)\n",
    "\n",
    "\n",
    "\n"
   ]
  },
  {
   "cell_type": "markdown",
   "metadata": {},
   "source": [
    "pandas correlates\n",
    "new cell for renaming\n",
    "merge presidential with county geo dframe using on=\"State\""
   ]
  }
 ],
 "metadata": {
  "kernelspec": {
   "display_name": "Python 3",
   "language": "python",
   "name": "python3"
  },
  "language_info": {
   "codemirror_mode": {
    "name": "ipython",
    "version": 3
   },
   "file_extension": ".py",
   "mimetype": "text/x-python",
   "name": "python",
   "nbconvert_exporter": "python",
   "pygments_lexer": "ipython3",
   "version": "3.10.5"
  }
 },
 "nbformat": 4,
 "nbformat_minor": 2
}
